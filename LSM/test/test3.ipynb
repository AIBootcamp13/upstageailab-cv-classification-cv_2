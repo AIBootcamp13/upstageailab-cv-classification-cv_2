{
 "cells": [
  {
   "cell_type": "code",
   "execution_count": 10,
   "id": "dfa4317e",
   "metadata": {},
   "outputs": [],
   "source": [
    "import shutil\n",
    "import os\n",
    "from pathlib import Path\n",
    "\n",
    "# 경로 지정\n",
    "folder_a = Path(\"./data/train_augmented\")\n",
    "folder_b = Path(\"./data/train_augmented2\")\n",
    "ve_folder = Path(\"./data/train_augmented(1+2)\")\n",
    "\n",
    "# ve 폴더 없으면 생성\n",
    "ve_folder.mkdir(exist_ok=True)\n",
    "\n",
    "# 복사 함수\n",
    "def copy_all_files(src_folder, dest_folder):\n",
    "    for root, dirs, files in os.walk(src_folder):\n",
    "        for file in files:\n",
    "            src_file = Path(root) / file\n",
    "            dest_file = dest_folder / file\n",
    "            # 같은 이름 있으면 덮어쓰기\n",
    "            shutil.copy2(src_file, dest_file)\n",
    "\n",
    "# A 폴더 파일 복사\n",
    "copy_all_files(folder_a, ve_folder)\n",
    "\n",
    "# B 폴더 파일 복사\n",
    "copy_all_files(folder_b, ve_folder)"
   ]
  },
  {
   "cell_type": "code",
   "execution_count": 7,
   "id": "9d9eb283",
   "metadata": {},
   "outputs": [],
   "source": [
    "import pandas as pd\n",
    "\n",
    "data1 = pd.read_csv(\"./data/train_augmented.csv\")\n",
    "data2 = pd.read_csv(\"./data/train_augmented2.csv\")\n",
    "\n",
    "sum_df = pd.concat([data1,data2])\n",
    "sum_df = sum_df.sample(frac=1).reset_index(drop=True)\n",
    "sum_df.to_csv(\"./data/train_augmented(1+2).csv\", index=False)"
   ]
  },
  {
   "cell_type": "code",
   "execution_count": 8,
   "id": "a19d05c9",
   "metadata": {},
   "outputs": [],
   "source": [
    "data1 = pd.read_csv(\"./data/val_augmented.csv\")\n",
    "data2 = pd.read_csv(\"./data/val_augmented2.csv\")\n",
    "\n",
    "sum_df = pd.concat([data1,data2])\n",
    "sum_df = sum_df.sample(frac=1).reset_index(drop=True)\n",
    "sum_df.to_csv(\"./data/val_augmented(1+2).csv\", index=False)"
   ]
  }
 ],
 "metadata": {
  "kernelspec": {
   "display_name": "base",
   "language": "python",
   "name": "python3"
  },
  "language_info": {
   "codemirror_mode": {
    "name": "ipython",
    "version": 3
   },
   "file_extension": ".py",
   "mimetype": "text/x-python",
   "name": "python",
   "nbconvert_exporter": "python",
   "pygments_lexer": "ipython3",
   "version": "3.10.13"
  }
 },
 "nbformat": 4,
 "nbformat_minor": 5
}
